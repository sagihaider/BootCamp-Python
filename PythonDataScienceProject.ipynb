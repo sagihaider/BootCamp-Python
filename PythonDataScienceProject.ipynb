{
  "nbformat": 4,
  "nbformat_minor": 0,
  "metadata": {
    "kernelspec": {
      "display_name": "Python 3",
      "language": "python",
      "name": "python3"
    },
    "language_info": {
      "codemirror_mode": {
        "name": "ipython",
        "version": 3
      },
      "file_extension": ".py",
      "mimetype": "text/x-python",
      "name": "python",
      "nbconvert_exporter": "python",
      "pygments_lexer": "ipython3",
      "version": "3.6.5"
    },
    "colab": {
      "name": "PythonDataScienceProject.ipynb",
      "provenance": [],
      "collapsed_sections": [],
      "include_colab_link": true
    }
  },
  "cells": [
    {
      "cell_type": "markdown",
      "metadata": {
        "id": "view-in-github",
        "colab_type": "text"
      },
      "source": [
        "<a href=\"https://colab.research.google.com/github/sagihaider/BootCamp-Python/blob/main/PythonDataScienceProject.ipynb\" target=\"_parent\"><img src=\"https://colab.research.google.com/assets/colab-badge.svg\" alt=\"Open In Colab\"/></a>"
      ]
    },
    {
      "cell_type": "markdown",
      "metadata": {
        "id": "VJCtxnECAoZW"
      },
      "source": [
        "# Summer Boot Camp: Day 1, University of Essex\n",
        "### Haider Raza, PhD\n",
        "### Monday, September 13, 2021\n",
        "### Duration: 4 days work and 5th Day presentaion\n",
        "\n",
        "***\n",
        "## Learning Objectives \n",
        "\n",
        "Students doing this minor Project in Data Science will achieve the following:\n",
        "\n",
        "* Students will develop relevant programming abilities in Python.\n",
        "* Students will demonstrate proficiency with statistical analysis of data.\n",
        "* Students will develop the ability to build and assess data-based models.\n",
        "* Students will execute statistical analyses with professional statistical software.\n",
        "* Students will demonstrate skill in data management.\n",
        "***"
      ]
    },
    {
      "cell_type": "markdown",
      "metadata": {
        "id": "om4T7XV70rI7"
      },
      "source": [
        "## Your Project: Cardio Good Fitness\n",
        "\n",
        "Cardio Good Fitness is a retail store and this data is of customers who brought various treadmill models.\n",
        "\n",
        "### About the Dataset\n",
        "The market research team at AdRight is assigned the task to identify the profile of the typical customer for each treadmill product offered by CardioGood Fitness.\n",
        "\n",
        "The team decides to investigate whether there are differences across the product lines with respect to customer characteristics.\n",
        "\n",
        "The team decides to collect data on individuals who purchased a treadmill at a CardioGoodFitness retail store during the prior three months. The data are stored in the [CardioGoodFitness.csv](https://github.com/sagihaider/BootCamp-Python/blob/main/Data/CardioGoodFitness.csv) file.\n",
        "\n",
        "### Dataset Information\n",
        "\n",
        "cardiogoodfitness.csv: The csv contains data related to customers who have purchased different model from Cardio Good Fitness :\n",
        "\n",
        "| Sno  | Col Name  | Col Discription  |\n",
        "|---|---|---|\n",
        "| 1| Product  | the model no. of the treadmill  | \n",
        "| 2| Age | in no of years, of the customer |\n",
        "| 3| Gender  |  of the customer |\n",
        "| 4| Education  | in no. of years, of the customer   |\n",
        "| 5| Marital Status  |of the customer   |\n",
        "| 6| Usage  | Avg. # times the customer wants to use the treadmill every week  |\n",
        "| 7| Fitness  | Self rated fitness score of the customer (5 - very fit, 1 - very unfit)  |\n",
        "| 8| Income  | of the customer   |\n",
        "| 9| Miles  | expected to run  |\n",
        "\n",
        "\n",
        "### Objective:\n",
        "\n",
        "Analyse the targeted customers and their profiles. Based on it , make suggestions and inferences for the company to target more customers.\n",
        "\n",
        "1. How many types of `Product` model does store have?\n",
        "2. Which is most sold `Product` model?\n",
        "3. Who is buying more trademil `male` or `female`?\n",
        "4. What is the `Income`, `Age`, `Education` of people buying treadmill.?\n",
        "5. How many `days` and `miles` customer expect to run on treadmill?\n",
        "6. What is the self rated `fitness` of customers buying treadmill.?\n",
        "7. Are `married` customer buying Treadmill more than `Single` customers?\n",
        "8. Is there any relation between `Income` and `product` model.?\n",
        "9. Is there any relation between `Age` and `product` model ?\n",
        "10. Is there any relation between self rated `fitness` and `product` model .?\n",
        "11. Is there any relation between `education` and `product`model.?\n",
        "12. Does `gender` has any effect on `product` model customer buy.?\n",
        "13. Does `Martial status` has any effect model `product` customer buy.?\n",
        "14. Is there different `age` groups buying different `product` models.?\n",
        "15.Relation between `Age`, `Income` and `education` and `product` model bought ?\n",
        "\n",
        "\n",
        "Please present the above 15 question in your presentation on the last of the Python Data Science Week\n"
      ]
    }
  ]
}