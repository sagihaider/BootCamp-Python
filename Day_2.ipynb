{
  "nbformat": 4,
  "nbformat_minor": 0,
  "metadata": {
    "kernelspec": {
      "display_name": "Python 3",
      "language": "python",
      "name": "python3"
    },
    "language_info": {
      "codemirror_mode": {
        "name": "ipython",
        "version": 3
      },
      "file_extension": ".py",
      "mimetype": "text/x-python",
      "name": "python",
      "nbconvert_exporter": "python",
      "pygments_lexer": "ipython3",
      "version": "3.6.5"
    },
    "colab": {
      "name": "Day_2.ipynb",
      "provenance": [],
      "include_colab_link": true
    }
  },
  "cells": [
    {
      "cell_type": "markdown",
      "metadata": {
        "id": "view-in-github",
        "colab_type": "text"
      },
      "source": [
        "<a href=\"https://colab.research.google.com/github/sagihaider/BootCamp-Python/blob/main/Day_2.ipynb\" target=\"_parent\"><img src=\"https://colab.research.google.com/assets/colab-badge.svg\" alt=\"Open In Colab\"/></a>"
      ]
    },
    {
      "cell_type": "markdown",
      "metadata": {
        "id": "jAwv5ZkvhcYp"
      },
      "source": [
        "# Summer Boot Camp: Day 2, University of Essex\n",
        "### Haider Raza, PhD\n",
        "### Monday, September 21, 2021\n",
        "### Approximate time: 180 minutes\n",
        "\n",
        "***\n",
        "## Learning Outcome Day 2\n",
        "\n",
        "* Python Syntax \n",
        "* Variables and tips on variable names \n",
        "* Data Types \n",
        "* Data Structures\n",
        "* Strings \n",
        "* Logic/Booleans\n",
        "* Operators\n",
        "* If/Else, While, For, Functions \n",
        "* OOP: Classes and inheritance\n",
        "\n",
        "***"
      ]
    },
    {
      "cell_type": "markdown",
      "metadata": {
        "id": "MJyllaKVkZeH"
      },
      "source": [
        "## Python Syntax\n",
        "\n",
        "The Python language has many similarities to `Perl`, `C`, and `Java`. However, there are some definite differences between the languages.\n",
        "\n",
        "Python statement ends with the token NEWLINE character (carriage return). It means each line in a Python script is a statement. The following Python script contains three statements in three separate lines.\n",
        "\n",
        "```python\n",
        "print('id: ', 1)\n",
        "print('First Name: ', 'Steve')\n",
        "print('Last Name: ', 'Jobs')\n",
        "```\n",
        "Use backslash character / to join a statement span over multiple lines, as shown below."
      ]
    },
    {
      "cell_type": "code",
      "metadata": {
        "id": "5oIpz4zwmM6Z"
      },
      "source": [
        "if 100 > 99 and \\\n",
        "    200 <= 300 and \\\n",
        "    True != False:\n",
        "        print('Hello World!')"
      ],
      "execution_count": null,
      "outputs": []
    },
    {
      "cell_type": "markdown",
      "metadata": {
        "id": "cWwlaV5cHey3"
      },
      "source": [
        "### Variables\n",
        "A name that is used to denote something or a value is called a variable. In python, variables can be declared and values can be assigned to it as follows,"
      ]
    },
    {
      "cell_type": "code",
      "metadata": {
        "id": "X2tuLpgoHey4"
      },
      "source": [
        "\n",
        "x = 2\n",
        "y = 5\n",
        "xy = 'Hello'"
      ],
      "execution_count": null,
      "outputs": []
    },
    {
      "cell_type": "code",
      "metadata": {
        "id": "NYILo2YiHey5",
        "outputId": "49740503-9fe9-4da3-f274-a5a5195c8a6a"
      },
      "source": [
        "print(x+y, xy)"
      ],
      "execution_count": null,
      "outputs": [
        {
          "output_type": "stream",
          "text": [
            "7 Hello\n"
          ],
          "name": "stdout"
        }
      ]
    },
    {
      "cell_type": "code",
      "metadata": {
        "id": "BI4anghWHey6",
        "outputId": "00872830-9dbf-401e-db78-5d7399ac54fd"
      },
      "source": [
        "# Multiple variables can be assigned with the same value\n",
        "\n",
        "x = y = 1\n",
        "\n",
        "print(x,y)"
      ],
      "execution_count": null,
      "outputs": [
        {
          "output_type": "stream",
          "text": [
            "1 1\n"
          ],
          "name": "stdout"
        }
      ]
    },
    {
      "cell_type": "markdown",
      "metadata": {
        "id": "sGG8ArhZHey6"
      },
      "source": [
        "### Operators\n",
        "\n",
        "#### Arithmetic Operators\n",
        "\n",
        "| Symbol | Task Performed |\n",
        "|----|---|\n",
        "| +  | Addition |\n",
        "| -  | Subtraction |\n",
        "| /  | division |\n",
        "| %  | mod |\n",
        "| *  | multiplication |\n",
        "| //  | floor division |\n",
        "| **  | to the power of |"
      ]
    },
    {
      "cell_type": "code",
      "metadata": {
        "id": "6-wbCWEJHey7",
        "outputId": "fae98893-c7bb-41c3-9242-5f8aaac22bab"
      },
      "source": [
        "1+2"
      ],
      "execution_count": null,
      "outputs": [
        {
          "output_type": "execute_result",
          "data": {
            "text/plain": [
              "3"
            ]
          },
          "metadata": {
            "tags": []
          },
          "execution_count": 7
        }
      ]
    },
    {
      "cell_type": "code",
      "metadata": {
        "id": "ThLzLxExHey7",
        "outputId": "a45e5053-14d0-48fa-a8ef-dc3c49eee699"
      },
      "source": [
        "2-1"
      ],
      "execution_count": null,
      "outputs": [
        {
          "output_type": "execute_result",
          "data": {
            "text/plain": [
              "1"
            ]
          },
          "metadata": {
            "tags": []
          },
          "execution_count": 8
        }
      ]
    },
    {
      "cell_type": "code",
      "metadata": {
        "id": "IkhCStFYHey7",
        "outputId": "8dcd8e1b-da69-4828-832e-3efe07d73a29"
      },
      "source": [
        "1*2"
      ],
      "execution_count": null,
      "outputs": [
        {
          "output_type": "execute_result",
          "data": {
            "text/plain": [
              "2"
            ]
          },
          "metadata": {
            "tags": []
          },
          "execution_count": 9
        }
      ]
    },
    {
      "cell_type": "code",
      "metadata": {
        "id": "FILL-bHDHey8",
        "outputId": "6a751c86-9d64-4c34-a2a2-3f07fd6fb746"
      },
      "source": [
        "1/2"
      ],
      "execution_count": null,
      "outputs": [
        {
          "output_type": "execute_result",
          "data": {
            "text/plain": [
              "0.5"
            ]
          },
          "metadata": {
            "tags": []
          },
          "execution_count": 10
        }
      ]
    },
    {
      "cell_type": "code",
      "metadata": {
        "id": "EGAkuQ58Hey8",
        "outputId": "2ed45516-46a5-4951-cf54-ca00fec6289d"
      },
      "source": [
        "15%10"
      ],
      "execution_count": null,
      "outputs": [
        {
          "output_type": "execute_result",
          "data": {
            "text/plain": [
              "5"
            ]
          },
          "metadata": {
            "tags": []
          },
          "execution_count": 11
        }
      ]
    },
    {
      "cell_type": "code",
      "metadata": {
        "id": "xpO9xdgyHey8",
        "outputId": "49f12176-3286-4be9-a38a-8d530b034665"
      },
      "source": [
        "#Floor division is nothing but converting the result so obtained to the nearest integer.\n",
        "2.8//2.0"
      ],
      "execution_count": null,
      "outputs": [
        {
          "output_type": "execute_result",
          "data": {
            "text/plain": [
              "1.0"
            ]
          },
          "metadata": {
            "tags": []
          },
          "execution_count": 13
        }
      ]
    },
    {
      "cell_type": "markdown",
      "metadata": {
        "id": "N4mnMEp0Hey8"
      },
      "source": [
        "## Relational Operators\n",
        "| Symbol | Task Performed |\n",
        "|----|---|\n",
        "| == | True, if it is equal |\n",
        "| !=  | True, if not equal to |\n",
        "| < | less than |\n",
        "| > | greater than |\n",
        "| <=  | less than or equal to |\n",
        "| >=  | greater than or equal to |"
      ]
    },
    {
      "cell_type": "code",
      "metadata": {
        "id": "JExkowyRHey9"
      },
      "source": [
        "z = 1"
      ],
      "execution_count": null,
      "outputs": []
    },
    {
      "cell_type": "code",
      "metadata": {
        "id": "2Kzl2rv4Hey9",
        "outputId": "878d79f9-240e-4683-e104-9bb5e5898aa1"
      },
      "source": [
        "z == 1"
      ],
      "execution_count": null,
      "outputs": [
        {
          "output_type": "execute_result",
          "data": {
            "text/plain": [
              "True"
            ]
          },
          "metadata": {
            "tags": []
          },
          "execution_count": 15
        }
      ]
    },
    {
      "cell_type": "code",
      "metadata": {
        "id": "7gi06LjlHey9",
        "outputId": "8dee6d4b-6010-4079-f7f7-6c018950ba8e"
      },
      "source": [
        "z > 1"
      ],
      "execution_count": null,
      "outputs": [
        {
          "output_type": "execute_result",
          "data": {
            "text/plain": [
              "False"
            ]
          },
          "metadata": {
            "tags": []
          },
          "execution_count": 16
        }
      ]
    },
    {
      "cell_type": "code",
      "metadata": {
        "id": "qTOszABhHey-",
        "outputId": "c66d0e8c-a6a0-40e0-ee63-c381c95f4db0"
      },
      "source": [
        "print(round(5.6231))\n",
        "print(round(4.55892, 2))"
      ],
      "execution_count": null,
      "outputs": [
        {
          "output_type": "stream",
          "text": [
            "6\n",
            "4.56\n"
          ],
          "name": "stdout"
        }
      ]
    },
    {
      "cell_type": "code",
      "metadata": {
        "id": "egj5qSNfHey-",
        "outputId": "b7b1d484-01bd-4440-b519-55c53c87f3a9"
      },
      "source": [
        "divmod(9,4)"
      ],
      "execution_count": null,
      "outputs": [
        {
          "output_type": "execute_result",
          "data": {
            "text/plain": [
              "(2, 1)"
            ]
          },
          "metadata": {
            "tags": []
          },
          "execution_count": 29
        }
      ]
    },
    {
      "cell_type": "code",
      "metadata": {
        "id": "S3uYKp0gHey-",
        "outputId": "661b3d02-1323-4d7d-a6d8-41b80407ffec"
      },
      "source": [
        "pow(2,3)"
      ],
      "execution_count": null,
      "outputs": [
        {
          "output_type": "execute_result",
          "data": {
            "text/plain": [
              "8"
            ]
          },
          "metadata": {
            "tags": []
          },
          "execution_count": 30
        }
      ]
    },
    {
      "cell_type": "markdown",
      "metadata": {
        "id": "e0lPv506Hey-"
      },
      "source": [
        "## Print\n",
        "\n",
        "\n",
        "In Python, single, double and triple quotes are used to denote a string. Most use single quotes when declaring a single character. Double quotes when declaring a line and triple quotes when declaring a paragraph/multiple lines."
      ]
    },
    {
      "cell_type": "code",
      "metadata": {
        "id": "awSQ04seHey-",
        "outputId": "6dc6306b-ca6c-48fb-fd2a-cb322c7ae573"
      },
      "source": [
        "print('H')"
      ],
      "execution_count": null,
      "outputs": [
        {
          "output_type": "stream",
          "text": [
            "H\n"
          ],
          "name": "stdout"
        }
      ]
    },
    {
      "cell_type": "code",
      "metadata": {
        "id": "Tpui8PXzHey_",
        "outputId": "3c92e838-48b9-4a15-864c-e7ceddcd28dd"
      },
      "source": [
        "print(\"Hello World\")"
      ],
      "execution_count": null,
      "outputs": [
        {
          "output_type": "stream",
          "text": [
            "Hello World\n"
          ],
          "name": "stdout"
        }
      ]
    },
    {
      "cell_type": "code",
      "metadata": {
        "id": "NvTicvWOHey_",
        "outputId": "6ce3a1b6-dce1-47c7-81b2-99573ce0c411"
      },
      "source": [
        "print(\"\"\"I am from Essex.\n",
        "I love Python.\"\"\")"
      ],
      "execution_count": null,
      "outputs": [
        {
          "output_type": "stream",
          "text": [
            "I am from Essex.\n",
            "I love Python.\n"
          ],
          "name": "stdout"
        }
      ]
    },
    {
      "cell_type": "code",
      "metadata": {
        "id": "cG6FKwn0Hey_",
        "outputId": "56070757-ce83-4a68-b642-3b57f240661b"
      },
      "source": [
        "string1 = \"World\"\n",
        "print(\"Hello\", string1)"
      ],
      "execution_count": null,
      "outputs": [
        {
          "output_type": "stream",
          "text": [
            "Hello World\n"
          ],
          "name": "stdout"
        }
      ]
    },
    {
      "cell_type": "code",
      "metadata": {
        "id": "AEJwrsrLHezA",
        "outputId": "3fa2d983-9fa2-4e5d-d6f9-cd9fc2009025"
      },
      "source": [
        "string2 = '!'\n",
        "print(\"Hello\", string1, string2)"
      ],
      "execution_count": null,
      "outputs": [
        {
          "output_type": "stream",
          "text": [
            "Hello World !\n"
          ],
          "name": "stdout"
        }
      ]
    },
    {
      "cell_type": "code",
      "metadata": {
        "id": "NtLNDD0EHezA",
        "outputId": "e0213f2d-cb95-4fd3-8276-f3c0cd7ef1d6"
      },
      "source": [
        "print(\"Hello\" + string1 + string2)"
      ],
      "execution_count": null,
      "outputs": [
        {
          "output_type": "stream",
          "text": [
            "HelloWorld!\n"
          ],
          "name": "stdout"
        }
      ]
    },
    {
      "cell_type": "code",
      "metadata": {
        "id": "xL047F7qHezA",
        "outputId": "a76f59b0-9f1c-4403-9240-927616d8ab10"
      },
      "source": [
        "print(\"Hello %s\" % string1)"
      ],
      "execution_count": null,
      "outputs": [
        {
          "output_type": "stream",
          "text": [
            "Hello World\n"
          ],
          "name": "stdout"
        }
      ]
    },
    {
      "cell_type": "code",
      "metadata": {
        "id": "jpz-UfI7HezA",
        "outputId": "5f85da2c-4344-483d-f485-ca65b22a974b"
      },
      "source": [
        "print(\"Actual Number = %d\" %18)\n",
        "print(\"Float of the number = %f\" %18)"
      ],
      "execution_count": null,
      "outputs": [
        {
          "output_type": "stream",
          "text": [
            "Actual Number = 18\n",
            "Float of the number = 18.000000\n"
          ],
          "name": "stdout"
        }
      ]
    },
    {
      "cell_type": "code",
      "metadata": {
        "id": "1lU4rsAuHezA",
        "outputId": "02fa915c-b9db-49ee-cd12-39631f874105"
      },
      "source": [
        "print(\"Hello %s %s\" %(string1,string2))"
      ],
      "execution_count": null,
      "outputs": [
        {
          "output_type": "stream",
          "text": [
            "Hello World !\n"
          ],
          "name": "stdout"
        }
      ]
    },
    {
      "cell_type": "markdown",
      "metadata": {
        "id": "KkRFgAyjto1v"
      },
      "source": [
        "## Python: Data Types\n",
        "\n",
        "In programming, data type is an important concept. `Variables` can store data of different types, and different types can do different things. Python has the following data types built-in by default, in these categories:\n",
        "\n",
        "\n",
        "|   Type          |  Syntax   | \n",
        "|-----------------|---------- |\n",
        "| Text Type:      | \t`str`     | \n",
        "| Numeric Types:  |  `int`, `float`, `complex`         |\n",
        "| Sequence Types: |  `list`, `tuple`, `range`         |\n",
        "| Mapping Type:   |  `dict`         |\n",
        "| Set Types:      |  `set`, `frozenset`         |\n",
        "| Boolean Type:   |  `bool`         |\n",
        "|  Binary Types:  |  `bytes`, `bytearray`, `memoryview`      |\n",
        "\n",
        "\n",
        "\n",
        "You can get the data type of any object by using the type() function:\n"
      ]
    },
    {
      "cell_type": "code",
      "metadata": {
        "id": "juF9t2m7vGou",
        "colab": {
          "base_uri": "https://localhost:8080/"
        },
        "outputId": "071888cf-98f7-486a-d9b4-bfb753de3cf6"
      },
      "source": [
        "x = 20\n",
        "type(x)"
      ],
      "execution_count": null,
      "outputs": [
        {
          "output_type": "execute_result",
          "data": {
            "text/plain": [
              "int"
            ]
          },
          "metadata": {},
          "execution_count": 1
        }
      ]
    },
    {
      "cell_type": "code",
      "metadata": {
        "id": "SCtC--bevTXq",
        "colab": {
          "base_uri": "https://localhost:8080/"
        },
        "outputId": "31130f69-cbf5-4654-8148-bd41d1f5e1c3"
      },
      "source": [
        "# str type\n",
        "x = \"Hello Essex\" \n",
        "print(type(x))\n",
        "\n",
        "# int type\n",
        "x = 100\t\n",
        "print(type(x))\n",
        "\n",
        "# float type\n",
        "x = 100.5\t\n",
        "print(type(x))\n",
        "\n",
        "# complex type\n",
        "x = 1j\n",
        "print(type(x))\n",
        "\n",
        "# list type\n",
        "x = [\"I\", \"Love\", \"Essex\"]\t\n",
        "print(type(x))\n",
        "\n",
        "# tuple \n",
        "x = (\"I\", \"Love\", \"Data Science\")\t\n",
        "print(type(x))\n",
        "\n",
        "# range type\n",
        "x = range(10)\t\n",
        "print(type(x))\n",
        "\n",
        "# dictonary type\n",
        "x = {\"name\" : \"Haider\", \"age\" : 36}\t\t\n",
        "print(type(x))\n",
        "\n",
        "# set type\n",
        "x = {\"BWM\", \"Audi\", \"Honda\"}\t\n",
        "print(type(x))\n",
        "\n",
        "# frozen set type\n",
        "x = frozenset({\"England\", \"Wale\", \"Scotland\", \"Northern Ireland\"})\n",
        "print(type(x))\n",
        "\n",
        "# bool type\n",
        "x = True\n",
        "print(type(x))\n",
        "\n",
        "# bytes type\n",
        "x = b\"Hello\"\n",
        "print(type(x))\n",
        "\n",
        "# bytearray\n",
        "x = bytearray(3)\n",
        "print(type(x))\n",
        "\n",
        "# memoryview \n",
        "x = memoryview(bytes(5))\n",
        "print(type(x))\n"
      ],
      "execution_count": null,
      "outputs": [
        {
          "output_type": "stream",
          "name": "stdout",
          "text": [
            "<class 'str'>\n",
            "<class 'int'>\n",
            "<class 'float'>\n",
            "<class 'complex'>\n",
            "<class 'list'>\n",
            "<class 'tuple'>\n",
            "<class 'range'>\n",
            "<class 'dict'>\n",
            "<class 'set'>\n",
            "<class 'frozenset'>\n",
            "<class 'bool'>\n",
            "<class 'bytes'>\n",
            "<class 'bytearray'>\n",
            "<class 'memoryview'>\n"
          ]
        }
      ]
    },
    {
      "cell_type": "markdown",
      "metadata": {
        "id": "6MpNKUUIw_FN"
      },
      "source": [
        "### Do you know, we can convert or set data types:\n",
        "\n",
        "If you want to specify the data type, you can use the following constructor functions:"
      ]
    },
    {
      "cell_type": "code",
      "metadata": {
        "id": "WH9gbUZ8xKfh"
      },
      "source": [
        "# Setting x to string\n",
        "x = str(\"Hello Essex\")\n",
        "\n",
        "# setting x to integer\n",
        "x = int(20)\n",
        "\n",
        "# setting x to float\n",
        "x = float(20.5)\t\t\n",
        "\n",
        "# setting x to list\n",
        "x = list((\"apple\", \"banana\", \"cherry\"))"
      ],
      "execution_count": null,
      "outputs": []
    },
    {
      "cell_type": "markdown",
      "metadata": {
        "id": "JQRXnRjeq0km"
      },
      "source": [
        "## Python Conditions\n",
        "\n",
        "Python supports the usual logical conditions from mathematics:\n",
        "\n",
        "|   Type          |  Syntax   | \n",
        "|-----------------|---------- |\n",
        "| Equals :        | `a == b`  | \n",
        "| Not Equals :    | `a != b`  | \n",
        "| Less than :     | \t`a < b` | \n",
        "| Less than or equal to:| \t`a <= b`| \n",
        "| Greater than :  | \t`a > b` | \n",
        "|Greater than or equal to:|  `a >= b`|\n",
        "\n",
        "\n",
        "These conditions can be used in several ways, most commonly in `if` statements and loops. An `if` statement is written by using the `if` keyword.\n",
        "\n",
        "```python\n",
        "x = 5\n",
        "y = 10\n",
        "if y > x:\n",
        "  print(\"b is greater than a\")\n",
        "```\n",
        "\n",
        "## Important point to note: `Indentation`\n",
        "Python relies on indentation (whitespace at the beginning of a line) to define scope in the code. Other programming languages often use curly-brackets for this purpose.\n",
        "\n",
        "```python\n",
        "a = 33\n",
        "b = 200\n",
        "if b > a:\n",
        "print(\"b is greater than a\") # you will get an error\n",
        "```\n",
        "Above code will give an error.\n",
        "\n",
        "### Elif\n",
        "\n",
        "The `elif` keyword is pythons way of saying \"**if the previous conditions were not true, then try this condition**\".\n",
        "\n"
      ]
    },
    {
      "cell_type": "code",
      "metadata": {
        "id": "FTkmPN1QuP9M",
        "outputId": "a5a88dbf-551d-4829-efb7-9cd90ee0ef66",
        "colab": {
          "base_uri": "https://localhost:8080/"
        }
      },
      "source": [
        "a = 10\n",
        "b = 10\n",
        "if b > a:\n",
        "  print(\"b is greater than a\")\n",
        "elif a == b:\n",
        "  print(\"a and b are equal\")"
      ],
      "execution_count": 2,
      "outputs": [
        {
          "output_type": "stream",
          "name": "stdout",
          "text": [
            "a and b are equal\n"
          ]
        }
      ]
    },
    {
      "cell_type": "markdown",
      "metadata": {
        "id": "Z3ckiu0CvJ5b"
      },
      "source": [
        "### Else\n",
        "The `else` keyword catches anything which isn't caught by the preceding conditions."
      ]
    },
    {
      "cell_type": "code",
      "metadata": {
        "id": "vlWGozwGvO6b",
        "outputId": "d814b350-3c7e-4e20-ea41-c607ddb3e709",
        "colab": {
          "base_uri": "https://localhost:8080/"
        }
      },
      "source": [
        "a = 30\n",
        "b = 10\n",
        "if b > a:\n",
        "  print(\"b is greater than a\")\n",
        "elif a == b:\n",
        "  print(\"a and b are equal\")\n",
        "else:\n",
        "  print(\"a is greater than b\")"
      ],
      "execution_count": 1,
      "outputs": [
        {
          "output_type": "stream",
          "name": "stdout",
          "text": [
            "a is greater than b\n"
          ]
        }
      ]
    },
    {
      "cell_type": "markdown",
      "metadata": {
        "id": "l78mtI7RwD0m"
      },
      "source": [
        "### Using And in IF\n",
        "\n",
        "The `and` keyword is a logical operator, and is used to combine conditional statements:"
      ]
    },
    {
      "cell_type": "code",
      "metadata": {
        "id": "7PISZ6RrwLIE",
        "outputId": "d2df661e-48ee-4cff-9996-d625c90994e7",
        "colab": {
          "base_uri": "https://localhost:8080/"
        }
      },
      "source": [
        "a = 30\n",
        "b = 10\n",
        "c = 70\n",
        "if a > b and c > a:\n",
        "  print(\"Both conditions are True\")"
      ],
      "execution_count": 3,
      "outputs": [
        {
          "output_type": "stream",
          "name": "stdout",
          "text": [
            "Both conditions are True\n"
          ]
        }
      ]
    },
    {
      "cell_type": "markdown",
      "metadata": {
        "id": "O8iNs1UsxK3z"
      },
      "source": [
        "### Nested If\n",
        "\n",
        "You can have `if` statements inside `if` statements, this is called \"nested if\" statements."
      ]
    },
    {
      "cell_type": "code",
      "metadata": {
        "id": "dltROXxTxabT",
        "outputId": "d03330be-8d17-429a-995d-a28e1d72de61",
        "colab": {
          "base_uri": "https://localhost:8080/"
        }
      },
      "source": [
        "x = 55\n",
        "\n",
        "if x > 10:\n",
        "  print(\"Above ten,\")\n",
        "  if x > 20:\n",
        "    print(\"and also above 20!\")\n",
        "  else:\n",
        "    print(\"but not above 20.\")"
      ],
      "execution_count": 4,
      "outputs": [
        {
          "output_type": "stream",
          "name": "stdout",
          "text": [
            "Above ten,\n",
            "and also above 20!\n"
          ]
        }
      ]
    },
    {
      "cell_type": "markdown",
      "metadata": {
        "id": "RChczfQNyr_8"
      },
      "source": [
        "## Python Loops\n",
        "\n",
        "Python has two primitive loop commands:\n",
        "\n",
        "* `while` loops\n",
        "* `for` \n",
        "\n",
        "\n",
        "### While Loop\n",
        "With the `while` loop we can execute a set of statements as long as a condition is true."
      ]
    },
    {
      "cell_type": "code",
      "metadata": {
        "id": "Qt6Rt1Xzzk5T"
      },
      "source": [
        "i = 1\n",
        "while i < 6:\n",
        "  print(i)\n",
        "  i += 1"
      ],
      "execution_count": null,
      "outputs": []
    },
    {
      "cell_type": "markdown",
      "metadata": {
        "id": "cGd2_Bz_0HO8"
      },
      "source": [
        "### Break Statement\n",
        "With the break statement we can stop the loop even if the `while` condition is true:"
      ]
    },
    {
      "cell_type": "code",
      "metadata": {
        "id": "LLF0mILS0UEd",
        "outputId": "6f37cb88-d306-4e02-f28c-87ac09d163f0",
        "colab": {
          "base_uri": "https://localhost:8080/"
        }
      },
      "source": [
        "i = 1\n",
        "while i < 6:\n",
        "  print(i)\n",
        "  if i == 3:\n",
        "    break\n",
        "  i += 1"
      ],
      "execution_count": 5,
      "outputs": [
        {
          "output_type": "stream",
          "name": "stdout",
          "text": [
            "1\n",
            "2\n",
            "3\n"
          ]
        }
      ]
    },
    {
      "cell_type": "markdown",
      "metadata": {
        "id": "n_lL1nUD19Uj"
      },
      "source": [
        "### For Loop\n",
        "\n",
        "A `for` loop is used for iterating over a sequence (that is either a list, a tuple, a dictionary, a set, or a string).\n",
        "\n",
        "This is less like the for keyword in other programming languages, and works more like an iterator method as found in other object-orientated programming languages.\n",
        "\n",
        "With the `for` loop we can execute a set of statements, once for each item in a list, tuple, set etc."
      ]
    },
    {
      "cell_type": "code",
      "metadata": {
        "id": "ko2Omx9n2iys",
        "outputId": "01a3d759-113d-46d8-b297-5884a0c59dee",
        "colab": {
          "base_uri": "https://localhost:8080/"
        }
      },
      "source": [
        "cars = [\"bmw\", \"audi\", \"honda\"]\n",
        "for x in cars:\n",
        "  print(x)"
      ],
      "execution_count": 6,
      "outputs": [
        {
          "output_type": "stream",
          "name": "stdout",
          "text": [
            "bmw\n",
            "audi\n",
            "honda\n"
          ]
        }
      ]
    },
    {
      "cell_type": "markdown",
      "metadata": {
        "id": "XpFFLsLh2qWJ"
      },
      "source": [
        "### Looping Through a String\n",
        "\n",
        "Even strings are iterable objects, they contain a sequence of characters:"
      ]
    },
    {
      "cell_type": "code",
      "metadata": {
        "id": "D3hxOvbI2vCv",
        "outputId": "a5bfd31d-0704-4997-a089-12d0a93b8216",
        "colab": {
          "base_uri": "https://localhost:8080/"
        }
      },
      "source": [
        "for x in \"bmw\":\n",
        "  print(x)"
      ],
      "execution_count": 7,
      "outputs": [
        {
          "output_type": "stream",
          "name": "stdout",
          "text": [
            "b\n",
            "m\n",
            "w\n"
          ]
        }
      ]
    },
    {
      "cell_type": "markdown",
      "metadata": {
        "id": "GVxTwYNz48t0"
      },
      "source": [
        "### Using break in for loop\n",
        "\n",
        "With the `break` statement we can stop the loop before it has looped through all the items:\n",
        "\n"
      ]
    },
    {
      "cell_type": "code",
      "metadata": {
        "id": "Rn2Xab855Gnv",
        "outputId": "fd7e8edf-0ed5-4ab1-cfb5-7ad4eb5e6ac2",
        "colab": {
          "base_uri": "https://localhost:8080/"
        }
      },
      "source": [
        "cars = [\"bmw\", \"audi\", \"honda\"]\n",
        "for x in cars:\n",
        "  print(x)\n",
        "  if x == \"audi\":\n",
        "    break"
      ],
      "execution_count": 8,
      "outputs": [
        {
          "output_type": "stream",
          "name": "stdout",
          "text": [
            "bmw\n",
            "audi\n"
          ]
        }
      ]
    },
    {
      "cell_type": "markdown",
      "metadata": {
        "id": "P-fpMiOE8G4Z"
      },
      "source": [
        "### The range() Function\n",
        "\n",
        "To loop through a set of code a specified number of times, we can use the `range()` function,\n",
        "The `range()` function returns a sequence of numbers, starting from 0 by default, and increments by 1 (by default), and ends at a specified number."
      ]
    },
    {
      "cell_type": "code",
      "metadata": {
        "id": "lMoud22H8GLP",
        "outputId": "38a81b91-be59-44c0-fe70-c5a511e8dab2",
        "colab": {
          "base_uri": "https://localhost:8080/"
        }
      },
      "source": [
        "for x in range(10):\n",
        "  print(x)"
      ],
      "execution_count": 9,
      "outputs": [
        {
          "output_type": "stream",
          "name": "stdout",
          "text": [
            "0\n",
            "1\n",
            "2\n",
            "3\n",
            "4\n",
            "5\n",
            "6\n",
            "7\n",
            "8\n",
            "9\n"
          ]
        }
      ]
    },
    {
      "cell_type": "code",
      "metadata": {
        "id": "tew1_uZy8Ssx",
        "outputId": "58721633-0daa-4053-a166-f8172cfc6dc6",
        "colab": {
          "base_uri": "https://localhost:8080/"
        }
      },
      "source": [
        "for x in range(4, 10):\n",
        "  print(x)"
      ],
      "execution_count": 10,
      "outputs": [
        {
          "output_type": "stream",
          "name": "stdout",
          "text": [
            "4\n",
            "5\n",
            "6\n",
            "7\n",
            "8\n",
            "9\n"
          ]
        }
      ]
    },
    {
      "cell_type": "markdown",
      "metadata": {
        "id": "jxAS65rjC6L4"
      },
      "source": [
        "## Functions in Python\n",
        "\n",
        "A function is a block of code which only runs when it is called. You can pass data, known as parameters, into a function. A function can return data as a result.\n",
        "\n",
        "### Creating a Function\n",
        "\n",
        "In Python a function is defined using the `def` keyword:"
      ]
    },
    {
      "cell_type": "code",
      "metadata": {
        "id": "3yrYKGTjD3VH"
      },
      "source": [
        "def my_function():\n",
        "  print(\"Hello, this is my first function\")"
      ],
      "execution_count": 31,
      "outputs": []
    },
    {
      "cell_type": "markdown",
      "metadata": {
        "id": "yhDPh113D-zE"
      },
      "source": [
        "Calling a function, we have just created:\n"
      ]
    },
    {
      "cell_type": "code",
      "metadata": {
        "id": "ltTuQ4k0ECO6",
        "outputId": "2ffa5660-f187-498c-d49d-a9c7c127ea98",
        "colab": {
          "base_uri": "https://localhost:8080/"
        }
      },
      "source": [
        "my_function()"
      ],
      "execution_count": 32,
      "outputs": [
        {
          "output_type": "stream",
          "name": "stdout",
          "text": [
            "Hello, this is my first function\n"
          ]
        }
      ]
    },
    {
      "cell_type": "markdown",
      "metadata": {
        "id": "uVoDWh_ZEFpj"
      },
      "source": [
        "### Arguments\n",
        "Information can be passed into functions as arguments. Arguments are specified after the function name, inside the parentheses. You can add as many arguments as you want, just separate them with a comma.\n",
        "\n",
        "The following example has a function with one argument (fname). When the function is called, we pass along a first name, which is used inside the function to print the full name:"
      ]
    },
    {
      "cell_type": "code",
      "metadata": {
        "id": "r0BUYY4zEu_2",
        "outputId": "59efd8a2-6632-4313-95a3-690008756f8a",
        "colab": {
          "base_uri": "https://localhost:8080/"
        }
      },
      "source": [
        "def my_function(car_model):\n",
        "  print(\"BMW \" + car_model)\n",
        "\n",
        "my_function(\"520d\")\n",
        "my_function(\"320i\")\n",
        "my_function(\"320d\")"
      ],
      "execution_count": 38,
      "outputs": [
        {
          "output_type": "stream",
          "name": "stdout",
          "text": [
            "BMW 520d\n",
            "BMW 320i\n",
            "BMW 320d\n"
          ]
        }
      ]
    },
    {
      "cell_type": "markdown",
      "metadata": {
        "id": "W1YsDAnZFhJR"
      },
      "source": [
        "### Parameters or Arguments?\n",
        "\n",
        "The terms \"parameter\" and \"argument\" can be used for the same thing: information that are passed into a function. But, there is a difference and important to note that:\n",
        "\n",
        "* A \"**parameter**\" is the variable listed inside the parentheses in the function definition.\n",
        "\n",
        "* An \"**argument**\" is the value that is sent to the function when it is called."
      ]
    },
    {
      "cell_type": "markdown",
      "metadata": {
        "id": "OcIaqIeYGAtR"
      },
      "source": [
        "### Number of Arguments\n",
        "By default, a function must be called with the correct number of arguments. Meaning that if your function expects 2 arguments, you have to call the function with 2 arguments, not more, and not less."
      ]
    },
    {
      "cell_type": "code",
      "metadata": {
        "id": "9SXiJcFoGFlI",
        "outputId": "aa71b04d-2153-46fc-de83-c3c3bf4bb518",
        "colab": {
          "base_uri": "https://localhost:8080/"
        }
      },
      "source": [
        "def my_function(car_name, car_model):\n",
        "  print(car_name + \" \" + car_model)\n",
        "\n",
        "my_function(\"Tesla\", \"Model X\")"
      ],
      "execution_count": 39,
      "outputs": [
        {
          "output_type": "stream",
          "name": "stdout",
          "text": [
            "Tesla Model X\n"
          ]
        }
      ]
    },
    {
      "cell_type": "markdown",
      "metadata": {
        "id": "pz3HwxDMGQRO"
      },
      "source": [
        "If you try to call the function with 1 or 3 arguments, you will get an error:"
      ]
    },
    {
      "cell_type": "code",
      "metadata": {
        "id": "PZFfRiNzGQ53",
        "outputId": "35043f71-f8c8-4ef7-83f1-2765c73a1898",
        "colab": {
          "base_uri": "https://localhost:8080/",
          "height": 164
        }
      },
      "source": [
        "my_function(\"Tesla\")"
      ],
      "execution_count": 40,
      "outputs": [
        {
          "output_type": "error",
          "ename": "TypeError",
          "evalue": "ignored",
          "traceback": [
            "\u001b[0;31m---------------------------------------------------------------------------\u001b[0m",
            "\u001b[0;31mTypeError\u001b[0m                                 Traceback (most recent call last)",
            "\u001b[0;32m<ipython-input-40-e3ec403fefe3>\u001b[0m in \u001b[0;36m<module>\u001b[0;34m()\u001b[0m\n\u001b[0;32m----> 1\u001b[0;31m \u001b[0mmy_function\u001b[0m\u001b[0;34m(\u001b[0m\u001b[0;34m\"Tesla\"\u001b[0m\u001b[0;34m)\u001b[0m\u001b[0;34m\u001b[0m\u001b[0;34m\u001b[0m\u001b[0m\n\u001b[0m",
            "\u001b[0;31mTypeError\u001b[0m: my_function() missing 1 required positional argument: 'car_model'"
          ]
        }
      ]
    },
    {
      "cell_type": "markdown",
      "metadata": {
        "id": "vk864_pyGWoE"
      },
      "source": [
        "### Arbitrary Arguments, *args\n",
        "If you do not know how many arguments that will be passed into your function, add a * before the parameter name in the function definition.\n",
        "\n",
        "This way the function will receive a tuple of arguments, and can access the items accordingly:"
      ]
    },
    {
      "cell_type": "code",
      "metadata": {
        "id": "tSIx-T6VGcpu",
        "outputId": "8eae850a-4af5-4552-f0d6-50152baef2c1",
        "colab": {
          "base_uri": "https://localhost:8080/"
        }
      },
      "source": [
        "def my_function(*cars):\n",
        "  print(\"In BMW, I like \" + cars[2])\n",
        "\n",
        "my_function(\"X7\", \"X3\", \"X1\")"
      ],
      "execution_count": 41,
      "outputs": [
        {
          "output_type": "stream",
          "name": "stdout",
          "text": [
            "In BMW, I like X1\n"
          ]
        }
      ]
    },
    {
      "cell_type": "markdown",
      "metadata": {
        "id": "kIvRpVkBG5S-"
      },
      "source": [
        "### Default Parameter Value\n",
        "The following example shows how to use a default parameter value. If we call the function without argument, it uses the default value:"
      ]
    },
    {
      "cell_type": "code",
      "metadata": {
        "id": "npfCqIBgHAh0",
        "outputId": "f35d0bad-7381-44f2-e327-f58c78102eba",
        "colab": {
          "base_uri": "https://localhost:8080/"
        }
      },
      "source": [
        "def my_function(car = \"Tesla\"):\n",
        "  print(\"My favroite car is \" + car)\n",
        "\n",
        "my_function(\"BMW\")\n",
        "my_function(\"Audi\")\n",
        "my_function()\n",
        "my_function(\"Honda\")"
      ],
      "execution_count": 43,
      "outputs": [
        {
          "output_type": "stream",
          "name": "stdout",
          "text": [
            "My favroite car is BMW\n",
            "My favroite car is Audi\n",
            "My favroite car is Tesla\n",
            "My favroite car is Honda\n"
          ]
        }
      ]
    },
    {
      "cell_type": "markdown",
      "metadata": {
        "id": "jHhx58KlJHO4"
      },
      "source": [
        "### Passing a List as an Argument\n",
        "You can send any data types of argument to a function (string, number, list, dictionary etc.), and it will be treated as the same data type inside the function.\n",
        "\n",
        "E.g. if you send a List as an argument, it will still be a List when it reaches the function:"
      ]
    },
    {
      "cell_type": "code",
      "metadata": {
        "id": "e60WWuuPJKfU",
        "outputId": "b3b7da36-edeb-4ac8-d5cb-38d49dda8c78",
        "colab": {
          "base_uri": "https://localhost:8080/"
        }
      },
      "source": [
        "def my_function(cars):\n",
        "  for x in cars:\n",
        "    print(x)\n",
        "\n",
        "fruits = [\"bmw\", \"audi\", \"honda\"]\n",
        "\n",
        "my_function(fruits)"
      ],
      "execution_count": 45,
      "outputs": [
        {
          "output_type": "stream",
          "name": "stdout",
          "text": [
            "bmw\n",
            "audi\n",
            "honda\n"
          ]
        }
      ]
    },
    {
      "cell_type": "markdown",
      "metadata": {
        "id": "pmSX2QNyKQht"
      },
      "source": [
        "### Return Values\n",
        "To let a function return a value, use the return statement:"
      ]
    },
    {
      "cell_type": "code",
      "metadata": {
        "id": "eSWNfpBaKTS-",
        "outputId": "412c6918-998a-4490-d49f-0db055018792",
        "colab": {
          "base_uri": "https://localhost:8080/"
        }
      },
      "source": [
        "def my_function(x):\n",
        "  return 5 * x\n",
        "\n",
        "print(my_function(10))\n",
        "print(my_function(20))\n",
        "print(my_function(30))"
      ],
      "execution_count": 46,
      "outputs": [
        {
          "output_type": "stream",
          "name": "stdout",
          "text": [
            "50\n",
            "100\n",
            "150\n"
          ]
        }
      ]
    },
    {
      "cell_type": "markdown",
      "metadata": {
        "id": "LfczEHJt8kT9"
      },
      "source": [
        "## Classes and Objects in Python: Object Oriented Programming\n",
        "\n",
        "Python is an object oriented programming language. Almost everything in Python is an object, with its properties and methods.\n",
        "\n",
        "A \"Class\" is like an object constructor, or a \"blueprint\" for creating objects.\n",
        "\n",
        "### Create a Class\n",
        "To create a class, use the keyword `class`:\n",
        "\n"
      ]
    },
    {
      "cell_type": "code",
      "metadata": {
        "id": "q3qDMSvZ87re"
      },
      "source": [
        "class MyClass:\n",
        "  x = 10"
      ],
      "execution_count": 11,
      "outputs": []
    },
    {
      "cell_type": "markdown",
      "metadata": {
        "id": "D-qvhIFI8_RX"
      },
      "source": [
        "### Create Object\n",
        "\n",
        "Now we can use the class named `MyClass` to create objects:\n",
        "Create an object named `p1`, and print the value of `x`:\n",
        "\n"
      ]
    },
    {
      "cell_type": "code",
      "metadata": {
        "id": "Qop1hKUR9HEl",
        "outputId": "5974aaa7-32d9-450f-dd9f-1d919336dce5",
        "colab": {
          "base_uri": "https://localhost:8080/"
        }
      },
      "source": [
        "p1 = MyClass()\n",
        "print(p1.x)"
      ],
      "execution_count": 12,
      "outputs": [
        {
          "output_type": "stream",
          "name": "stdout",
          "text": [
            "10\n"
          ]
        }
      ]
    },
    {
      "cell_type": "markdown",
      "metadata": {
        "id": "67QaRciL9Sfq"
      },
      "source": [
        "### The __init__() Function\n",
        "The examples above are classes and objects in their simplest form, and are not really useful in real life applications.\n",
        "\n",
        "To understand the meaning of classes we have to understand the built-in `__init__()` function.\n",
        "\n",
        "All classes have a function called `__init__()`, which is always executed when the class is being initiated.\n",
        "\n",
        "Use the `__init__()` function to assign values to object properties, or other operations that are necessary to do when the object is being created:"
      ]
    },
    {
      "cell_type": "code",
      "metadata": {
        "id": "MKSoupi-9dus",
        "outputId": "60f1eaa0-8de9-4145-c766-cf1eefb0d3e9",
        "colab": {
          "base_uri": "https://localhost:8080/"
        }
      },
      "source": [
        "class Student:\n",
        "  def __init__(self, name, age):\n",
        "    self.name = name\n",
        "    self.age = age\n",
        "\n",
        "p1 = Student(\"Alex\", 22)\n",
        "\n",
        "print(p1.name)\n",
        "print(p1.age)"
      ],
      "execution_count": 14,
      "outputs": [
        {
          "output_type": "stream",
          "name": "stdout",
          "text": [
            "Alex\n",
            "22\n"
          ]
        }
      ]
    },
    {
      "cell_type": "markdown",
      "metadata": {
        "id": "46ZwZ60m9z6F"
      },
      "source": [
        "### Object Methods\n",
        "Objects can also contain methods. Methods in objects are functions that belong to the object.\n",
        "\n",
        "Let us create a method in the Student class:"
      ]
    },
    {
      "cell_type": "code",
      "metadata": {
        "id": "JaqU0tSV94MA",
        "outputId": "15f51241-e3c2-450e-9985-91449a1b53c6",
        "colab": {
          "base_uri": "https://localhost:8080/"
        }
      },
      "source": [
        "class Student:\n",
        "  def __init__(self, name, age):\n",
        "    self.name = name\n",
        "    self.age = age\n",
        "\n",
        "  def myfunc(self):\n",
        "    print(\"Hello my name is \" + self.name )\n",
        "\n",
        "p1 = Student(\"Ali\", 24)\n",
        "p1.myfunc()"
      ],
      "execution_count": 20,
      "outputs": [
        {
          "output_type": "stream",
          "name": "stdout",
          "text": [
            "Hello my name is Ali\n"
          ]
        }
      ]
    },
    {
      "cell_type": "markdown",
      "metadata": {
        "id": "U21DCvlD-4hq"
      },
      "source": [
        "### The self Parameter\n",
        "\n",
        "The self parameter is a reference to the current instance of the class, and is used to access variables that belongs to the class.\n",
        "\n",
        "It does not have to be named `self` , you can call it whatever you like, but it has to be the first parameter of any function in the class:\n",
        "\n"
      ]
    },
    {
      "cell_type": "code",
      "metadata": {
        "id": "BcA3FE5T-_RJ",
        "outputId": "0254c63d-f250-43d8-fbfa-591022cd9d38",
        "colab": {
          "base_uri": "https://localhost:8080/"
        }
      },
      "source": [
        "class Student:\n",
        "  def __init__(blabla, name, age):\n",
        "    blabla.name = name\n",
        "    blabla.age = age\n",
        "\n",
        "  def myfunc(abc):\n",
        "    print(\"Hello my name is \" + abc.name)\n",
        "\n",
        "p1 = Student(\"Ali\", 24)\n",
        "p1.myfunc()"
      ],
      "execution_count": 25,
      "outputs": [
        {
          "output_type": "stream",
          "name": "stdout",
          "text": [
            "Hello my name is Ali\n"
          ]
        }
      ]
    },
    {
      "cell_type": "markdown",
      "metadata": {
        "id": "H_Z1VCjG_212"
      },
      "source": [
        "### Modify Object Properties\n",
        "You can modify properties on objects like this:"
      ]
    },
    {
      "cell_type": "code",
      "metadata": {
        "id": "Sqn5RMNp_5ga",
        "outputId": "06026b76-9040-42b8-e66b-1ed5bc0a84df",
        "colab": {
          "base_uri": "https://localhost:8080/"
        }
      },
      "source": [
        "p1.age = 40\n",
        "print(p1.age)"
      ],
      "execution_count": 27,
      "outputs": [
        {
          "output_type": "stream",
          "name": "stdout",
          "text": [
            "40\n"
          ]
        }
      ]
    },
    {
      "cell_type": "markdown",
      "metadata": {
        "id": "8z_afVxnAAAT"
      },
      "source": [
        "### Delete Object Properties\n",
        "You can delete properties on objects by using the `del` keyword:\n",
        "\n"
      ]
    },
    {
      "cell_type": "code",
      "metadata": {
        "id": "sgAJ8Ee8AFSO",
        "outputId": "b081019d-c473-4c30-a1af-34649d790b2a",
        "colab": {
          "base_uri": "https://localhost:8080/",
          "height": 181
        }
      },
      "source": [
        "del p1.age\n",
        "print(p1.age)"
      ],
      "execution_count": 30,
      "outputs": [
        {
          "output_type": "error",
          "ename": "AttributeError",
          "evalue": "ignored",
          "traceback": [
            "\u001b[0;31m---------------------------------------------------------------------------\u001b[0m",
            "\u001b[0;31mAttributeError\u001b[0m                            Traceback (most recent call last)",
            "\u001b[0;32m<ipython-input-30-4e24acd3d696>\u001b[0m in \u001b[0;36m<module>\u001b[0;34m()\u001b[0m\n\u001b[0;32m----> 1\u001b[0;31m \u001b[0;32mdel\u001b[0m \u001b[0mp1\u001b[0m\u001b[0;34m.\u001b[0m\u001b[0mage\u001b[0m\u001b[0;34m\u001b[0m\u001b[0;34m\u001b[0m\u001b[0m\n\u001b[0m\u001b[1;32m      2\u001b[0m \u001b[0mprint\u001b[0m\u001b[0;34m(\u001b[0m\u001b[0mp1\u001b[0m\u001b[0;34m.\u001b[0m\u001b[0mage\u001b[0m\u001b[0;34m)\u001b[0m\u001b[0;34m\u001b[0m\u001b[0;34m\u001b[0m\u001b[0m\n",
            "\u001b[0;31mAttributeError\u001b[0m: age"
          ]
        }
      ]
    }
  ]
}