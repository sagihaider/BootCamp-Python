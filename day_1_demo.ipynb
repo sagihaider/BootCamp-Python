{
  "nbformat": 4,
  "nbformat_minor": 0,
  "metadata": {
    "colab": {
      "name": "day_1_demo.ipynb",
      "provenance": [],
      "authorship_tag": "ABX9TyOe6Asv7v7OBuPPzNyJmMDj",
      "include_colab_link": true
    },
    "kernelspec": {
      "name": "python3",
      "display_name": "Python 3"
    },
    "language_info": {
      "name": "python"
    }
  },
  "cells": [
    {
      "cell_type": "markdown",
      "metadata": {
        "id": "view-in-github",
        "colab_type": "text"
      },
      "source": [
        "<a href=\"https://colab.research.google.com/github/sagihaider/BootCamp-Python/blob/main/day_1_demo.ipynb\" target=\"_parent\"><img src=\"https://colab.research.google.com/assets/colab-badge.svg\" alt=\"Open In Colab\"/></a>"
      ]
    },
    {
      "cell_type": "code",
      "metadata": {
        "colab": {
          "base_uri": "https://localhost:8080/"
        },
        "id": "_29FLn9cdd3G",
        "outputId": "605eb469-d4ed-4cd1-e232-4722ed95d056"
      },
      "source": [
        "print(\"Hello Essex\")"
      ],
      "execution_count": 3,
      "outputs": [
        {
          "output_type": "stream",
          "name": "stdout",
          "text": [
            "Hello Essex\n"
          ]
        }
      ]
    },
    {
      "cell_type": "markdown",
      "metadata": {
        "id": "H205Aoi4fH0L"
      },
      "source": [
        "# Welcome to Data Science Boot Camp\n",
        "## Hello Guys\n",
        "### Enjoy the class\n",
        "#### learn Python\n",
        "\n",
        "Hi everyone\n",
        "\n",
        "$x^2$\n",
        "\n",
        "| Name      | SNo |\n",
        "| ----------- | ----------- |\n",
        "| Haider      | 1       |\n",
        "| Alice   | 2        |"
      ]
    },
    {
      "cell_type": "code",
      "metadata": {
        "colab": {
          "base_uri": "https://localhost:8080/"
        },
        "id": "p5mYNKsjiaVV",
        "outputId": "0cffb25d-1b1e-4e6a-927d-2d69e04b4615"
      },
      "source": [
        "print(\"hi\")"
      ],
      "execution_count": 4,
      "outputs": [
        {
          "output_type": "stream",
          "name": "stdout",
          "text": [
            "hi\n"
          ]
        }
      ]
    },
    {
      "cell_type": "code",
      "metadata": {
        "colab": {
          "base_uri": "https://localhost:8080/"
        },
        "id": "Po5wAfEofBfR",
        "outputId": "72a564ab-d0a9-4214-e286-cf8df6f44c13"
      },
      "source": [
        "print('Welcome to data science boot camp')"
      ],
      "execution_count": 2,
      "outputs": [
        {
          "output_type": "stream",
          "name": "stdout",
          "text": [
            "Welcome to data science boot camp\n"
          ]
        }
      ]
    }
  ]
}