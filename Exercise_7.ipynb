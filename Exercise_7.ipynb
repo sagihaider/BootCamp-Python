{
  "nbformat": 4,
  "nbformat_minor": 0,
  "metadata": {
    "kernelspec": {
      "display_name": "Python 3",
      "language": "python",
      "name": "python3"
    },
    "language_info": {
      "codemirror_mode": {
        "name": "ipython",
        "version": 3
      },
      "file_extension": ".py",
      "mimetype": "text/x-python",
      "name": "python",
      "nbconvert_exporter": "python",
      "pygments_lexer": "ipython3",
      "version": "3.6.4"
    },
    "colab": {
      "name": "Exercise_7.ipynb",
      "provenance": [],
      "include_colab_link": true
    }
  },
  "cells": [
    {
      "cell_type": "markdown",
      "metadata": {
        "id": "view-in-github",
        "colab_type": "text"
      },
      "source": [
        "<a href=\"https://colab.research.google.com/github/sagihaider/IADS_SC_2021_Python/blob/main/Exercise_7.ipynb\" target=\"_parent\"><img src=\"https://colab.research.google.com/assets/colab-badge.svg\" alt=\"Open In Colab\"/></a>"
      ]
    },
    {
      "cell_type": "markdown",
      "metadata": {
        "id": "-0JEwymQHutZ"
      },
      "source": [
        "### Classes"
      ]
    },
    {
      "cell_type": "markdown",
      "metadata": {
        "id": "NUhhxxabHuta"
      },
      "source": [
        "Variables, Lists, Dictionaries etc in python is a object. Without getting into the theory part of Object Oriented Programming, explanation of the concepts will be done along this tutorial."
      ]
    },
    {
      "cell_type": "markdown",
      "metadata": {
        "id": "DL_w0Ir9Hutb"
      },
      "source": [
        "A class is declared as follows"
      ]
    },
    {
      "cell_type": "markdown",
      "metadata": {
        "id": "E_J1_hFbHutb"
      },
      "source": [
        "class class_name:\n",
        "\n",
        "    Functions"
      ]
    },
    {
      "cell_type": "code",
      "metadata": {
        "id": "N8rhdPVeHutc"
      },
      "source": [
        "class FirstClass:\n",
        "    pass"
      ],
      "execution_count": null,
      "outputs": []
    },
    {
      "cell_type": "markdown",
      "metadata": {
        "id": "7lTd8TZqHutc"
      },
      "source": [
        "**pass** in python means do nothing. "
      ]
    },
    {
      "cell_type": "markdown",
      "metadata": {
        "id": "7aOhLipVHutd"
      },
      "source": [
        "Above, a class object named \"FirstClass\" is declared now consider a \"egclass\" which has all the characteristics of \"FirstClass\". So all you have to do is, equate the \"egclass\" to \"FirstClass\". In python jargon this is called as creating an instance. \"egclass\" is the instance of \"FirstClass\""
      ]
    },
    {
      "cell_type": "code",
      "metadata": {
        "id": "bzdAx82KHutd"
      },
      "source": [
        "egclass = FirstClass()"
      ],
      "execution_count": null,
      "outputs": []
    },
    {
      "cell_type": "markdown",
      "metadata": {
        "id": "mEgOOBi5Hute"
      },
      "source": [
        "Now let us add some \"functionality\" to the class. So that our \"FirstClass\" is defined in a better way. A function inside a class is called as a \"Method\" of that class"
      ]
    },
    {
      "cell_type": "markdown",
      "metadata": {
        "id": "xZ5fEKN8Hutf"
      },
      "source": [
        "Most of the classes will have a function named \"\\_\\_init\\_\\_\". These are called as magic methods. In this method you basically initialize the variables of that class or any other initial algorithms which is applicable to all methods is specified in this method. A variable inside a class is called an attribute."
      ]
    },
    {
      "cell_type": "markdown",
      "metadata": {
        "id": "f8RcikUVHutf"
      },
      "source": [
        "These helps simplify the process of initializing a instance. For example,\n",
        "\n",
        "Without the use of magic method or \\_\\_init\\_\\_ which is otherwise called as constructors. One had to define a **init( )** method and call the **init( )** function."
      ]
    },
    {
      "cell_type": "code",
      "metadata": {
        "id": "PL9Ox4tqHutf",
        "outputId": "6eae3834-f5d4-415f-904a-7f7c78a4eefe"
      },
      "source": [
        "eg0 = FirstClass()\n",
        "eg0.init()"
      ],
      "execution_count": null,
      "outputs": [
        {
          "output_type": "error",
          "ename": "AttributeError",
          "evalue": "'FirstClass' object has no attribute 'init'",
          "traceback": [
            "\u001b[0;31m---------------------------------------------------------------------------\u001b[0m",
            "\u001b[0;31mAttributeError\u001b[0m                            Traceback (most recent call last)",
            "\u001b[0;32m<ipython-input-6-d15e7b8e3d78>\u001b[0m in \u001b[0;36m<module>\u001b[0;34m()\u001b[0m\n\u001b[1;32m      1\u001b[0m \u001b[0meg0\u001b[0m \u001b[0;34m=\u001b[0m \u001b[0mFirstClass\u001b[0m\u001b[0;34m(\u001b[0m\u001b[0;34m)\u001b[0m\u001b[0;34m\u001b[0m\u001b[0m\n\u001b[0;32m----> 2\u001b[0;31m \u001b[0meg0\u001b[0m\u001b[0;34m.\u001b[0m\u001b[0minit\u001b[0m\u001b[0;34m(\u001b[0m\u001b[0;34m)\u001b[0m\u001b[0;34m\u001b[0m\u001b[0m\n\u001b[0m",
            "\u001b[0;31mAttributeError\u001b[0m: 'FirstClass' object has no attribute 'init'"
          ]
        }
      ]
    },
    {
      "cell_type": "markdown",
      "metadata": {
        "id": "8Qn3G2qnHuth"
      },
      "source": [
        "But when the constructor is defined the \\_\\_init\\_\\_ is called thus intializing the instance created. "
      ]
    },
    {
      "cell_type": "markdown",
      "metadata": {
        "id": "fm6o5l2XHuth"
      },
      "source": [
        "We will make our \"FirstClass\" to accept two variables name and symbol.\n",
        "\n",
        "I will be explaining about the \"self\" in a while."
      ]
    },
    {
      "cell_type": "code",
      "metadata": {
        "id": "PqNIztKMHuth"
      },
      "source": [
        "class FirstClass:\n",
        "    def __init__(self,name,symbol):\n",
        "        self.name = name\n",
        "        self.symbol = symbol"
      ],
      "execution_count": null,
      "outputs": []
    },
    {
      "cell_type": "markdown",
      "metadata": {
        "id": "_QJ3IPYJHuti"
      },
      "source": [
        "Now that we have defined a function and added the \\_\\_init\\_\\_ method. We can create a instance of FirstClass which now accepts two arguments. "
      ]
    },
    {
      "cell_type": "code",
      "metadata": {
        "id": "LcSaGvAMHuti"
      },
      "source": [
        "eg1 = FirstClass('one',1)\n",
        "eg2 = FirstClass('two',2)"
      ],
      "execution_count": null,
      "outputs": []
    },
    {
      "cell_type": "code",
      "metadata": {
        "id": "CUd3BvrgHuti",
        "outputId": "99355bbc-1c70-4238-aef3-517ae1dc4324"
      },
      "source": [
        "print(eg1.name, eg1.symbol)\n",
        "print(eg2.name, eg2.symbol)"
      ],
      "execution_count": null,
      "outputs": [
        {
          "output_type": "stream",
          "text": [
            "one 1\n",
            "two 2\n"
          ],
          "name": "stdout"
        }
      ]
    },
    {
      "cell_type": "markdown",
      "metadata": {
        "id": "a9X_mT0bHuti"
      },
      "source": [
        "Changing the FirstClass function a bit,"
      ]
    },
    {
      "cell_type": "code",
      "metadata": {
        "id": "-Sx0tRwnHuti"
      },
      "source": [
        "class FirstClass:\n",
        "    def __init__(self,name,symbol):\n",
        "        self.n = name\n",
        "        self.s = symbol"
      ],
      "execution_count": null,
      "outputs": []
    },
    {
      "cell_type": "markdown",
      "metadata": {
        "id": "RwM8LrG2Hutj"
      },
      "source": [
        "Changing self.name and self.symbol to self.n and self.s respectively will yield,"
      ]
    },
    {
      "cell_type": "code",
      "metadata": {
        "id": "v2u_zvNIHutj"
      },
      "source": [
        "eg1 = FirstClass('one',1)\n",
        "eg2 = FirstClass('two',2)"
      ],
      "execution_count": null,
      "outputs": []
    },
    {
      "cell_type": "code",
      "metadata": {
        "id": "m-7bTmBrHutj",
        "outputId": "7e24804a-293b-4149-8ad4-41f69506f4d0"
      },
      "source": [
        "print(eg1.name, eg1.symbol)\n",
        "print(eg2.name, eg2.symbol)"
      ],
      "execution_count": null,
      "outputs": [
        {
          "output_type": "error",
          "ename": "AttributeError",
          "evalue": "'FirstClass' object has no attribute 'name'",
          "traceback": [
            "\u001b[0;31m---------------------------------------------------------------------------\u001b[0m",
            "\u001b[0;31mAttributeError\u001b[0m                            Traceback (most recent call last)",
            "\u001b[0;32m<ipython-input-15-4ab7dec1c737>\u001b[0m in \u001b[0;36m<module>\u001b[0;34m()\u001b[0m\n\u001b[0;32m----> 1\u001b[0;31m \u001b[0mprint\u001b[0m\u001b[0;34m(\u001b[0m\u001b[0meg1\u001b[0m\u001b[0;34m.\u001b[0m\u001b[0mname\u001b[0m\u001b[0;34m,\u001b[0m \u001b[0meg1\u001b[0m\u001b[0;34m.\u001b[0m\u001b[0msymbol\u001b[0m\u001b[0;34m)\u001b[0m\u001b[0;34m\u001b[0m\u001b[0m\n\u001b[0m\u001b[1;32m      2\u001b[0m \u001b[0mprint\u001b[0m\u001b[0;34m(\u001b[0m\u001b[0meg2\u001b[0m\u001b[0;34m.\u001b[0m\u001b[0mname\u001b[0m\u001b[0;34m,\u001b[0m \u001b[0meg2\u001b[0m\u001b[0;34m.\u001b[0m\u001b[0msymbol\u001b[0m\u001b[0;34m)\u001b[0m\u001b[0;34m\u001b[0m\u001b[0m\n",
            "\u001b[0;31mAttributeError\u001b[0m: 'FirstClass' object has no attribute 'name'"
          ]
        }
      ]
    },
    {
      "cell_type": "markdown",
      "metadata": {
        "id": "YX6z5RTnHutk"
      },
      "source": [
        "AttributeError, Remember variables are nothing but attributes inside a class? So this means we have not given the correct attribute for the instance."
      ]
    },
    {
      "cell_type": "code",
      "metadata": {
        "id": "-6R_c_YMHutk",
        "outputId": "95c6b052-42fb-48df-f5d4-aa373233e1df"
      },
      "source": [
        "print(eg1.n, eg1.s)\n",
        "print(eg2.n, eg2.s)"
      ],
      "execution_count": null,
      "outputs": [
        {
          "output_type": "stream",
          "text": [
            "one 1\n",
            "two 2\n"
          ],
          "name": "stdout"
        }
      ]
    },
    {
      "cell_type": "markdown",
      "metadata": {
        "id": "BUalt48KHutk"
      },
      "source": [
        "So now we have solved the error. Now let us compare the two examples that we saw.\n",
        "\n",
        "When I declared self.name and self.symbol, there was no attribute error for eg1.name and eg1.symbol and when I declared self.n and self.s, there was no attribute error for eg1.n and eg1.s\n",
        "\n",
        "From the above we can conclude that self is nothing but the instance itself.\n",
        "\n",
        "Remember, self is not predefined it is userdefined. You can make use of anything you are comfortable with. But it has become a common practice to use self."
      ]
    },
    {
      "cell_type": "markdown",
      "metadata": {
        "id": "k1F_jrhFHutk"
      },
      "source": [
        "Let us add some more methods to FirstClass."
      ]
    },
    {
      "cell_type": "code",
      "metadata": {
        "id": "o0IEnH9qHutl"
      },
      "source": [
        "class FirstClass:\n",
        "    def __init__(self,name,symbol):\n",
        "        self.name = name\n",
        "        self.symbol = symbol\n",
        "    def square(self):\n",
        "        return self.symbol * self.symbol\n",
        "    def cube(self):\n",
        "        return self.symbol * self.symbol * self.symbol\n",
        "    def multiply(self, x):\n",
        "        return self.symbol * x"
      ],
      "execution_count": null,
      "outputs": []
    },
    {
      "cell_type": "code",
      "metadata": {
        "id": "J6vni24_Hutl"
      },
      "source": [
        "eg4 = FirstClass('Five',5)"
      ],
      "execution_count": null,
      "outputs": []
    },
    {
      "cell_type": "code",
      "metadata": {
        "id": "t6udgISmHutl",
        "outputId": "d60550c6-c00c-4b7f-e8ca-903fef5433a4"
      },
      "source": [
        "print(eg4.square())\n",
        "print(eg4.cube())"
      ],
      "execution_count": null,
      "outputs": [
        {
          "output_type": "stream",
          "text": [
            "25\n",
            "125\n"
          ],
          "name": "stdout"
        }
      ]
    },
    {
      "cell_type": "code",
      "metadata": {
        "id": "ooepW05mHutl",
        "outputId": "604faedc-9d5c-4e0f-bc6c-0e53a55ec6f5"
      },
      "source": [
        "eg4.multiply(2)"
      ],
      "execution_count": null,
      "outputs": [
        {
          "output_type": "execute_result",
          "data": {
            "text/plain": [
              "10"
            ]
          },
          "metadata": {
            "tags": []
          },
          "execution_count": 20
        }
      ]
    },
    {
      "cell_type": "markdown",
      "metadata": {
        "id": "Hn9qfqsPHutl"
      },
      "source": [
        "The above can also be written as,"
      ]
    },
    {
      "cell_type": "code",
      "metadata": {
        "id": "156zThJvHutn",
        "outputId": "74149895-9dd7-44b3-cce5-fe3f19feec93"
      },
      "source": [
        "FirstClass.multiply(eg4,2)"
      ],
      "execution_count": null,
      "outputs": [
        {
          "output_type": "execute_result",
          "data": {
            "text/plain": [
              "10"
            ]
          },
          "metadata": {
            "tags": []
          },
          "execution_count": 21
        }
      ]
    },
    {
      "cell_type": "markdown",
      "metadata": {
        "id": "QD5_mcRwHutn"
      },
      "source": [
        "##Inheritance"
      ]
    },
    {
      "cell_type": "markdown",
      "metadata": {
        "id": "8Qus-o8hHutn"
      },
      "source": [
        "There might be cases where a new class would have all the previous characteristics of an already defined class. So the new class can \"inherit\" the previous class and add it's own methods to it. This is called as inheritance."
      ]
    },
    {
      "cell_type": "markdown",
      "metadata": {
        "id": "R-vzzetEHuto"
      },
      "source": [
        "Consider class SoftwareEngineer which has a method salary."
      ]
    },
    {
      "cell_type": "code",
      "metadata": {
        "collapsed": true,
        "id": "lPybs5wQHuto"
      },
      "source": [
        "class SoftwareEngineer:\n",
        "    def __init__(self,name,age):\n",
        "        self.name = name\n",
        "        self.age = age\n",
        "    def salary(self, value):\n",
        "        self.money = value\n",
        "        print self.name,\"earns\",self.money"
      ],
      "execution_count": null,
      "outputs": []
    },
    {
      "cell_type": "code",
      "metadata": {
        "id": "Mpo998TFHuto"
      },
      "source": [
        "a = SoftwareEngineer('Kartik',26)"
      ],
      "execution_count": null,
      "outputs": []
    },
    {
      "cell_type": "code",
      "metadata": {
        "id": "PO_PehZxHuto",
        "outputId": "4795ce6e-13a6-4c41-db91-5195a642e035"
      },
      "source": [
        "a.salary(40000)"
      ],
      "execution_count": null,
      "outputs": [
        {
          "output_type": "stream",
          "text": [
            "Kartik earns 40000\n"
          ],
          "name": "stdout"
        }
      ]
    },
    {
      "cell_type": "code",
      "metadata": {
        "id": "bOnoydDTHuto",
        "outputId": "f185cba9-e77a-4cc1-bb49-ec76b1926005"
      },
      "source": [
        "dir(SoftwareEngineer)"
      ],
      "execution_count": null,
      "outputs": [
        {
          "output_type": "execute_result",
          "data": {
            "text/plain": [
              "['__doc__', '__init__', '__module__', 'salary']"
            ]
          },
          "metadata": {
            "tags": []
          },
          "execution_count": 32
        }
      ]
    },
    {
      "cell_type": "markdown",
      "metadata": {
        "id": "cGm8IGOjHuto"
      },
      "source": [
        "Now consider another class Artist which tells us about the amount of money an artist earns and his artform."
      ]
    },
    {
      "cell_type": "code",
      "metadata": {
        "id": "ooRwTOZfHutp"
      },
      "source": [
        "class Artist:\n",
        "    def __init__(self,name,age):\n",
        "        self.name = name\n",
        "        self.age = age\n",
        "    def money(self,value):\n",
        "        self.money = value\n",
        "        print self.name,\"earns\",self.money\n",
        "    def artform(self, job):\n",
        "        self.job = job\n",
        "        print self.name,\"is a\", self.job"
      ],
      "execution_count": null,
      "outputs": []
    },
    {
      "cell_type": "code",
      "metadata": {
        "collapsed": true,
        "id": "vr6iFxiKHutp"
      },
      "source": [
        "b = Artist('Nitin',20)"
      ],
      "execution_count": null,
      "outputs": []
    },
    {
      "cell_type": "code",
      "metadata": {
        "id": "DROngHDUHutp",
        "outputId": "0fda1b06-309e-49b0-90fe-c9d5ca170bc3"
      },
      "source": [
        "b.money(50000)\n",
        "b.artform('Musician')"
      ],
      "execution_count": null,
      "outputs": [
        {
          "output_type": "stream",
          "text": [
            "Nitin earns 50000\n",
            "Nitin is a Musician\n"
          ],
          "name": "stdout"
        }
      ]
    },
    {
      "cell_type": "code",
      "metadata": {
        "id": "GZKal6v9Hutp",
        "outputId": "d9e3bf65-2133-4d19-c1a6-9917a6caf7f3"
      },
      "source": [
        "dir(Artist)"
      ],
      "execution_count": null,
      "outputs": [
        {
          "output_type": "execute_result",
          "data": {
            "text/plain": [
              "['__doc__', '__init__', '__module__', 'artform', 'money']"
            ]
          },
          "metadata": {
            "tags": []
          },
          "execution_count": 36
        }
      ]
    },
    {
      "cell_type": "markdown",
      "metadata": {
        "id": "kui_JORnHutq"
      },
      "source": [
        "money method and salary method are the same. So we can generalize the method to salary and inherit the SoftwareEngineer class to Artist class. Now the artist class becomes,"
      ]
    },
    {
      "cell_type": "code",
      "metadata": {
        "id": "63rTKofhHutq"
      },
      "source": [
        "class Artist(SoftwareEngineer):\n",
        "    def artform(self, job):\n",
        "        self.job = job\n",
        "        print self.name,\"is a\", self.job"
      ],
      "execution_count": null,
      "outputs": []
    },
    {
      "cell_type": "code",
      "metadata": {
        "id": "sWLggCkhHutq"
      },
      "source": [
        "c = Artist('Nishanth',21)"
      ],
      "execution_count": null,
      "outputs": []
    },
    {
      "cell_type": "code",
      "metadata": {
        "id": "5eys2BlJHutq",
        "outputId": "17213e2f-a587-40ed-fd1c-547e68e9be39"
      },
      "source": [
        "dir(Artist)"
      ],
      "execution_count": null,
      "outputs": [
        {
          "output_type": "execute_result",
          "data": {
            "text/plain": [
              "['__doc__', '__init__', '__module__', 'artform', 'salary']"
            ]
          },
          "metadata": {
            "tags": []
          },
          "execution_count": 39
        }
      ]
    },
    {
      "cell_type": "code",
      "metadata": {
        "id": "kMON1ikKHutq",
        "outputId": "d8209fd1-4f2a-4523-a9f5-fbdc4a37ef72"
      },
      "source": [
        "c.salary(60000)\n",
        "c.artform('Dancer')"
      ],
      "execution_count": null,
      "outputs": [
        {
          "output_type": "stream",
          "text": [
            "Nishanth earns 60000\n",
            "Nishanth is a Dancer\n"
          ],
          "name": "stdout"
        }
      ]
    },
    {
      "cell_type": "markdown",
      "metadata": {
        "id": "ShBy2rh2Hutq"
      },
      "source": [
        "Suppose say while inheriting a particular method is not suitable for the new class. One can override this method by defining again that method with the same name inside the new class."
      ]
    },
    {
      "cell_type": "code",
      "metadata": {
        "collapsed": true,
        "id": "J6K7wKP2Hutq"
      },
      "source": [
        "class Artist(SoftwareEngineer):\n",
        "    def artform(self, job):\n",
        "        self.job = job\n",
        "        print self.name,\"is a\", self.job\n",
        "    def salary(self, value):\n",
        "        self.money = value\n",
        "        print self.name,\"earns\",self.money\n",
        "        print \"I am overriding the SoftwareEngineer class's salary method\""
      ],
      "execution_count": null,
      "outputs": []
    },
    {
      "cell_type": "code",
      "metadata": {
        "collapsed": true,
        "id": "gy5R6LTWHutr"
      },
      "source": [
        "c = Artist('Nishanth',21)"
      ],
      "execution_count": null,
      "outputs": []
    },
    {
      "cell_type": "code",
      "metadata": {
        "id": "rOui-qFMHutr",
        "outputId": "9506f047-a6e2-477c-c2fa-d9579ba75e03"
      },
      "source": [
        "c.salary(60000)\n",
        "c.artform('Dancer')"
      ],
      "execution_count": null,
      "outputs": [
        {
          "output_type": "stream",
          "text": [
            "Nishanth earns 60000\n",
            "I am overriding the SoftwareEngineer class's salary method\n",
            "Nishanth is a Dancer\n"
          ],
          "name": "stdout"
        }
      ]
    },
    {
      "cell_type": "markdown",
      "metadata": {
        "id": "D-BCTYdLHutr"
      },
      "source": [
        "If not sure how many times methods will be called it will become difficult to declare so many variables to carry each result hence it is better to declare a list and append the result."
      ]
    },
    {
      "cell_type": "code",
      "metadata": {
        "id": "Zgfb5GMaHutr"
      },
      "source": [
        "class emptylist:\n",
        "    def __init__(self):\n",
        "        self.data = []\n",
        "    def one(self,x):\n",
        "        self.data.append(x)\n",
        "    def two(self, x ):\n",
        "        self.data.append(x**2)\n",
        "    def three(self, x):\n",
        "        self.data.append(x**3)"
      ],
      "execution_count": null,
      "outputs": []
    },
    {
      "cell_type": "code",
      "metadata": {
        "id": "ukfanrtWHutr"
      },
      "source": [
        "xc = emptylist()"
      ],
      "execution_count": null,
      "outputs": []
    },
    {
      "cell_type": "code",
      "metadata": {
        "id": "jUUNirZ8Hutr",
        "outputId": "82c4ffbc-7a08-46e4-9ece-28ce0e8b8bec"
      },
      "source": [
        "xc.one(1)\n",
        "print(xc.data)"
      ],
      "execution_count": null,
      "outputs": [
        {
          "output_type": "stream",
          "text": [
            "[1]\n"
          ],
          "name": "stdout"
        }
      ]
    },
    {
      "cell_type": "markdown",
      "metadata": {
        "id": "uJlqtq_7Hutr"
      },
      "source": [
        "Since xc.data is a list direct list operations can also be performed."
      ]
    },
    {
      "cell_type": "code",
      "metadata": {
        "id": "6DyxUX-CHutr",
        "outputId": "574a2094-b20c-4507-8cf5-cbe93e06c2e0"
      },
      "source": [
        "xc.data.append(8)\n",
        "print(xc.data)"
      ],
      "execution_count": null,
      "outputs": [
        {
          "output_type": "stream",
          "text": [
            "[1, 8]\n"
          ],
          "name": "stdout"
        }
      ]
    },
    {
      "cell_type": "code",
      "metadata": {
        "id": "mxDi780JHutr",
        "outputId": "4da093e5-2c10-4435-981c-fd125e8781c4"
      },
      "source": [
        "xc.two(3)\n",
        "print(xc.data)"
      ],
      "execution_count": null,
      "outputs": [
        {
          "output_type": "stream",
          "text": [
            "[1, 8, 9]\n"
          ],
          "name": "stdout"
        }
      ]
    },
    {
      "cell_type": "markdown",
      "metadata": {
        "id": "Y7Ws69DwHuts"
      },
      "source": [
        "If the number of input arguments varies from instance to instance asterisk can be used as shown."
      ]
    },
    {
      "cell_type": "code",
      "metadata": {
        "id": "ag-V_xY3Huts"
      },
      "source": [
        "class NotSure:\n",
        "    def __init__(self, *args):\n",
        "        self.data = ''.join(list(args)) "
      ],
      "execution_count": null,
      "outputs": []
    },
    {
      "cell_type": "code",
      "metadata": {
        "id": "Y7CFqZOdHuts"
      },
      "source": [
        "yz = NotSure('I', 'Do' , 'Not', 'Know', 'What', 'To','Type')"
      ],
      "execution_count": null,
      "outputs": []
    },
    {
      "cell_type": "code",
      "metadata": {
        "id": "fymEnKTKHuts",
        "outputId": "ae3430b8-32d2-43e1-f485-f339f7335a47"
      },
      "source": [
        "yz.data"
      ],
      "execution_count": null,
      "outputs": [
        {
          "output_type": "execute_result",
          "data": {
            "text/plain": [
              "'IDoNotKnowWhatToType'"
            ]
          },
          "metadata": {
            "tags": []
          },
          "execution_count": 32
        }
      ]
    },
    {
      "cell_type": "code",
      "metadata": {
        "id": "oBxfpePYHuts"
      },
      "source": [
        ""
      ],
      "execution_count": null,
      "outputs": []
    }
  ]
}