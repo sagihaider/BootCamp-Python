{
  "nbformat": 4,
  "nbformat_minor": 0,
  "metadata": {
    "colab": {
      "name": "demo_IADS_SummerSchool.ipynb",
      "provenance": [],
      "authorship_tag": "ABX9TyM8zXigx26Qk1yNCq+cNRN/",
      "include_colab_link": true
    },
    "kernelspec": {
      "name": "python3",
      "display_name": "Python 3"
    },
    "language_info": {
      "name": "python"
    }
  },
  "cells": [
    {
      "cell_type": "markdown",
      "metadata": {
        "id": "view-in-github",
        "colab_type": "text"
      },
      "source": [
        "<a href=\"https://colab.research.google.com/github/sagihaider/IADS_SC_2021_Python/blob/main/demo_IADS_SummerSchool.ipynb\" target=\"_parent\"><img src=\"https://colab.research.google.com/assets/colab-badge.svg\" alt=\"Open In Colab\"/></a>"
      ]
    },
    {
      "cell_type": "markdown",
      "metadata": {
        "id": "aFZGcE8oBT5g"
      },
      "source": [
        "# IADS Summer School\n",
        "## Hello Eevryone\n",
        "### Hi\n",
        "\n",
        "\n",
        "This is my **first** *code* in Python \n",
        "\n",
        "\n",
        "1.   First\n",
        "2.   Second\n",
        "\n"
      ]
    },
    {
      "cell_type": "code",
      "metadata": {
        "colab": {
          "base_uri": "https://localhost:8080/"
        },
        "id": "zIeRQBM5_iWW",
        "outputId": "1cbdf581-fcc7-4ca7-998e-094f73c7f84f"
      },
      "source": [
        "# This is my comment line: I am printing a sentence\n",
        "print('Welcome to the IADS Summer School')"
      ],
      "execution_count": 2,
      "outputs": [
        {
          "output_type": "stream",
          "text": [
            "Welcome to the IADS Summer School\n"
          ],
          "name": "stdout"
        }
      ]
    },
    {
      "cell_type": "code",
      "metadata": {
        "id": "2wWZ4uXYBcxC"
      },
      "source": [
        ""
      ],
      "execution_count": null,
      "outputs": []
    }
  ]
}