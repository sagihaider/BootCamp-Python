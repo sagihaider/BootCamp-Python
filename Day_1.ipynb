{
  "nbformat": 4,
  "nbformat_minor": 0,
  "metadata": {
    "kernelspec": {
      "display_name": "Python 3",
      "language": "python",
      "name": "python3"
    },
    "language_info": {
      "codemirror_mode": {
        "name": "ipython",
        "version": 3
      },
      "file_extension": ".py",
      "mimetype": "text/x-python",
      "name": "python",
      "nbconvert_exporter": "python",
      "pygments_lexer": "ipython3",
      "version": "3.6.5"
    },
    "colab": {
      "name": "Day_1.ipynb",
      "provenance": [],
      "include_colab_link": true
    }
  },
  "cells": [
    {
      "cell_type": "markdown",
      "metadata": {
        "id": "view-in-github",
        "colab_type": "text"
      },
      "source": [
        "<a href=\"https://colab.research.google.com/github/sagihaider/BootCamp-Python/blob/main/Day_1.ipynb\" target=\"_parent\"><img src=\"https://colab.research.google.com/assets/colab-badge.svg\" alt=\"Open In Colab\"/></a>"
      ]
    },
    {
      "cell_type": "markdown",
      "metadata": {
        "id": "z_tpcCWXzIPi"
      },
      "source": [
        "# Introduction to Colab and Python\n",
        "\n",
        "Welcome to this Colab where you will get a quick introduction to the Python programming language and the environment used for the course's exercises: Colab.\n",
        "\n",
        "Colab is a Python development environment that runs in the browser using Google Cloud. For example, to print \"Hello World\", just hover the mouse over [ ] and press the play button to the upper left. Or press shift-enter to execute."
      ]
    },
    {
      "cell_type": "code",
      "metadata": {
        "id": "WWshkeimzcCf"
      },
      "source": [
        "print(\"Hello World\")"
      ],
      "execution_count": null,
      "outputs": []
    },
    {
      "cell_type": "markdown",
      "metadata": {
        "id": "08L0_Z3Pzqcm"
      },
      "source": [
        "## Features of Google Colab\n",
        "\n",
        "*   Write and execute code in Python\n",
        "*   Document the code which supports the mathematical equations\n",
        "*   Create new notebooks\n",
        "*   Upload the existing notebooks\n",
        "*   Share the notebooks with the google link\n",
        "*   Import data from Google Drive\n",
        "*   Save notebooks from/to Google Drive\n",
        "*   Import/Publish notebooks from GitHub\n",
        "*   Import external datasets e.g. from Kaggle\n",
        "*   Integrate PyTorch, TensorFlow, Keras, OpenCV\n",
        "*   Free Cloud service with free GPU and TPU\n",
        "\n",
        "Please see this medium blog on [An Introduction to Google Colab (Python)](https://medium.com/@sagihaider/benefits-of-using-google-colab-python-8f246c91bc52)"
      ]
    },
    {
      "cell_type": "markdown",
      "metadata": {
        "id": "om4T7XV70rI7"
      },
      "source": [
        "## What is Python?\n",
        "Python is a popular programming language. It was created by Guido van Rossum, and released in 1991.\n",
        "\n",
        "It is used for:\n",
        "*   web development (server-side),\n",
        "*   software development,\n",
        "*   mathematics,\n",
        "*   system scripting.\n",
        "\n",
        "## What can Python do?\n",
        "*   Python can be used for web development application.\n",
        "*   Python can be used alongside software to create workflows.\n",
        "*   Python can connect to database systems. It can also read and modify files.\n",
        "*   Python can be used to handle big data and perform complex mathematics.\n",
        "*   Python can be used for rapid prototyping, or for production-ready software development.\n",
        "\n",
        "\n",
        "## Why Python?\n",
        "*   Python works on different platforms (Windows, Mac, Linux, Raspberry Pi, etc).\n",
        "*   Python has a simple syntax similar to the English language.\n",
        "*   Python has syntax that allows developers to write programs with fewer lines than some other programming languages.\n",
        "*   Python runs on an interpreter system, meaning that code can be executed as soon as it is written. This means that prototyping can be very quick.\n",
        "*   Python can be treated in a procedural way, an object-oriented way or a functional way.\n",
        "\n",
        "\n",
        "\n"
      ]
    },
    {
      "cell_type": "markdown",
      "metadata": {
        "id": "zWvjvrbI2NtF"
      },
      "source": [
        "### Let's see our first code"
      ]
    },
    {
      "cell_type": "code",
      "metadata": {
        "id": "c0NrIg1D2RnZ",
        "colab": {
          "base_uri": "https://localhost:8080/"
        },
        "outputId": "6e9ff562-b228-48e2-b776-e6abdd44d5dd"
      },
      "source": [
        "if 10 > 8:\n",
        "  print(\"Ten is greater than eight!\")"
      ],
      "execution_count": null,
      "outputs": [
        {
          "output_type": "stream",
          "text": [
            "Ten is greater than eight!\n"
          ],
          "name": "stdout"
        }
      ]
    },
    {
      "cell_type": "markdown",
      "metadata": {
        "id": "azyORy_W-_L5"
      },
      "source": [
        "## What is GitHub?\n",
        "\n",
        "GitHub is a code hosting platform for version control and collaboration. It lets you and others work together on projects from anywhere. Here we will teaches you GitHub essentials such repositories, branches, commits, and Pull Requests. You’ll create your own `Introduction2Python` repository and commit all your work day-by-day.\n",
        "\n",
        "<img src=\"https://miro.medium.com/max/1400/1*JLYlSLSK8-AZo8gt9UdYqA.jpeg\" width=\"300\">\n",
        "\n",
        "To use GitHub you need a [GitHub](http://github.com/) account and Internet access. You don’t need to know how to code. However, please focus why we are using it. Now, please click here [Sign-Up](https://github.com/signup?ref_cta=Sign+up&ref_loc=header+logged+out&ref_page=%2F&source=header-home) to create a GitHub account. \n",
        "\n",
        "After creating GitHub account, please follow the given steps:\n",
        "\n",
        "#### Step 1. Create a Repository\n",
        "\n",
        "A repository is usually used to organize a single project. Repositories can contain folders and files, images, videos, spreadsheets, and data sets – anything your project needs. We recommend including a README, or a file with information about your project. GitHub makes it easy to add one at the same time you create your new repository. It also offers other common options such as a license file.\n",
        "\n",
        "Your `Introduction2Python` repository can be a place where you store ideas, resources, or even share and discuss things with others.\n",
        "\n",
        "#### Step 2. To create a new repository\n",
        "In the upper right corner, next to your avatar or identicon, click  and then select New repository.\n",
        "\n",
        "1. Name your repository `Introduction2Python`.\n",
        "2. Write a short description.\n",
        "3. Select Initialize this repository with a README.\n",
        "4. Click `Create repository`.\n",
        "\n",
        "#### Step 3. Make and commit changes\n",
        "\n",
        "1. Click the README.md file.\n",
        "2. Click the  pencil icon in the upper right corner of the file view to edit.\n",
        "3. In the editor, write a bit about yourself.\n",
        "4. Write a commit message that describes your changes.\n",
        "5. Click Commit changes button.\n"
      ]
    },
    {
      "cell_type": "markdown",
      "metadata": {
        "id": "o5ZrJzgQ_RSq"
      },
      "source": [
        ""
      ]
    }
  ]
}